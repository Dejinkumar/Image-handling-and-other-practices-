{
 "cells": [
  {
   "cell_type": "code",
   "execution_count": 1,
   "id": "7d463328",
   "metadata": {},
   "outputs": [],
   "source": [
    "import pandas as pd\n",
    "import numpy as np"
   ]
  },
  {
   "cell_type": "code",
   "execution_count": 2,
   "id": "b35ad671",
   "metadata": {},
   "outputs": [],
   "source": [
    "data=pd.read_csv('train_mosaic.csv')\n"
   ]
  },
  {
   "cell_type": "code",
   "execution_count": 3,
   "id": "cfc16440",
   "metadata": {},
   "outputs": [],
   "source": [
    "#pd.options.display.max_rows =900000\n",
    "#pd.options.display.max_columns =100"
   ]
  },
  {
   "cell_type": "code",
   "execution_count": 4,
   "id": "705cdb57",
   "metadata": {},
   "outputs": [],
   "source": [
    "#data.head(10)"
   ]
  },
  {
   "cell_type": "code",
   "execution_count": 5,
   "id": "957b85db",
   "metadata": {},
   "outputs": [],
   "source": [
    "#data.info()"
   ]
  },
  {
   "cell_type": "code",
   "execution_count": 6,
   "id": "be4f5cd0",
   "metadata": {},
   "outputs": [
    {
     "data": {
      "text/plain": [
       "Label\n",
       "BENIGN           370623\n",
       "DoS Hulk         310126\n",
       "DoS slowloris    128612\n",
       "dtype: int64"
      ]
     },
     "execution_count": 6,
     "metadata": {},
     "output_type": "execute_result"
    }
   ],
   "source": [
    "data.groupby('Label').size()"
   ]
  },
  {
   "cell_type": "code",
   "execution_count": 7,
   "id": "e798b910",
   "metadata": {},
   "outputs": [],
   "source": [
    "def label_to_class(x):\n",
    "    if ((x==\"DoS Hulk\") or (x==\"DoS slowloris\")):\n",
    "        return 1\n",
    "    else:\n",
    "        return 0\n",
    "    "
   ]
  },
  {
   "cell_type": "code",
   "execution_count": 8,
   "id": "acd97916",
   "metadata": {},
   "outputs": [
    {
     "data": {
      "text/plain": [
       "0"
      ]
     },
     "execution_count": 8,
     "metadata": {},
     "output_type": "execute_result"
    }
   ],
   "source": [
    "label_to_class(\"BENIGN\")"
   ]
  },
  {
   "cell_type": "code",
   "execution_count": 9,
   "id": "33bbe446",
   "metadata": {},
   "outputs": [
    {
     "name": "stdout",
     "output_type": "stream",
     "text": [
      "1\n",
      "1\n"
     ]
    }
   ],
   "source": [
    "print(label_to_class(\"DoS Hulk\"))\n",
    "print(label_to_class(\"DoS slowloris\"))"
   ]
  },
  {
   "cell_type": "code",
   "execution_count": 10,
   "id": "c34e3949",
   "metadata": {},
   "outputs": [],
   "source": [
    "data1=data.copy()\n",
    "data1.Label=data1.Label.apply(label_to_class)"
   ]
  },
  {
   "cell_type": "code",
   "execution_count": 11,
   "id": "9828a627",
   "metadata": {},
   "outputs": [],
   "source": [
    "#data1.head(10)"
   ]
  },
  {
   "cell_type": "code",
   "execution_count": 12,
   "id": "9ddfa6ee",
   "metadata": {},
   "outputs": [],
   "source": [
    "#data1.corr()"
   ]
  },
  {
   "cell_type": "code",
   "execution_count": 13,
   "id": "5fc1d190",
   "metadata": {},
   "outputs": [],
   "source": [
    "data2=data1[[\"Flow_Bytes_Sec\",\"Flow_Bytes_Sec\",\"SYN_Flag_Count\",\"Init_Win_bytes_backward\",\"Active_Std\",\"Active_Max\",\"Active_Min\",\"Idle_Mean\",\"Idle_Std\",\"Idle_Max\",\"Idle_Min\",\"Active_Mean\",\"Init_Win_bytes_forward\",\"Average_Packet_Size\",\"Avg_Fwd_Segment_Size\",\"Avg_Bwd_Segment_Size\",\"RST_Flag_Count\",\"PSH_Flag_Count\",\"ACK_Flag_Count\",\"URG_Flag_Count\",\"Packet_Length_Mean\",\"Packet_Length_Std\",\"Packet_Length_Variance\",\"Max_Packet_Length\",\"Fwd_Packets_Sec\",\"Bwd_IAT_Total\",\"Bwd_IAT_Mean\",\"Bwd_IAT_Std\",\"Bwd_IAT_Max\",\"Fwd_IAT_Total\",\"Fwd_IAT_Mean\",\"Fwd_IAT_Std\",\"Fwd_IAT_Max\",\"Flow_IAT_Mean\",\"Flow_IAT_Std\",\"Flow_IAT_Max\",\"Fwd_Packet_Length_Std\",\"Bwd_Packet_Length_Max\",\"Bwd_Packet_Length_Min\",\"Bwd_Packet_Length_Mean\",\"Bwd_Packet_Length_Std\",\"Fwd_Packet_Length_Max\",\"Fwd_Packet_Length_Min\",\"Destination_Port\",\"Flow_Duration\",\"Label\"]]"
   ]
  },
  {
   "cell_type": "code",
   "execution_count": 14,
   "id": "49cde87d",
   "metadata": {},
   "outputs": [],
   "source": [
    "#data2.head(10)"
   ]
  },
  {
   "cell_type": "code",
   "execution_count": 15,
   "id": "742088cc",
   "metadata": {},
   "outputs": [],
   "source": [
    "#data2.info()"
   ]
  },
  {
   "cell_type": "code",
   "execution_count": 16,
   "id": "c6140082",
   "metadata": {},
   "outputs": [],
   "source": [
    "#data2.corr()"
   ]
  },
  {
   "cell_type": "code",
   "execution_count": 17,
   "id": "ad3d6da3",
   "metadata": {},
   "outputs": [],
   "source": [
    "data3=data2.drop([\"Active_Std\",\"Active_Max\",\"Active_Min\",\"Idle_Mean\",\"Idle_Std\",\"Idle_Min\",\"Active_Mean\",\"Init_Win_bytes_forward\",\"Average_Packet_Size\",\"Avg_Fwd_Segment_Size\",\"Avg_Bwd_Segment_Size\",\"RST_Flag_Count\",\"Fwd_Packet_Length_Max\",\"Bwd_IAT_Mean\",\"Bwd_IAT_Std\",\"Bwd_IAT_Max\",\"Fwd_IAT_Total\",\"Fwd_IAT_Mean\",\"Max_Packet_Length\",\"Fwd_Packets_Sec\",\"Avg_Fwd_Segment_Size\"],axis='columns')"
   ]
  },
  {
   "cell_type": "code",
   "execution_count": 18,
   "id": "e3dc92e8",
   "metadata": {},
   "outputs": [],
   "source": [
    "#data3.head(10)"
   ]
  },
  {
   "cell_type": "code",
   "execution_count": 19,
   "id": "090c5032",
   "metadata": {},
   "outputs": [],
   "source": [
    "#data3.info()"
   ]
  },
  {
   "cell_type": "code",
   "execution_count": 20,
   "id": "7d336788",
   "metadata": {},
   "outputs": [],
   "source": [
    "\n",
    "#from sklearn.preprocessing import StandardScaler"
   ]
  },
  {
   "cell_type": "code",
   "execution_count": 21,
   "id": "f5e522d6",
   "metadata": {},
   "outputs": [],
   "source": [
    "#scaler=StandardScaler()\n",
    "#scaler.fit(data1)"
   ]
  },
  {
   "cell_type": "code",
   "execution_count": 22,
   "id": "0e1c979c",
   "metadata": {},
   "outputs": [],
   "source": [
    "#scaled_data=scaler.transform(data1)"
   ]
  },
  {
   "cell_type": "code",
   "execution_count": 23,
   "id": "df84e610",
   "metadata": {},
   "outputs": [],
   "source": [
    "#scaled_data"
   ]
  },
  {
   "cell_type": "code",
   "execution_count": 24,
   "id": "daf8d06c",
   "metadata": {},
   "outputs": [],
   "source": [
    "#from sklearn.decomposition import PCA"
   ]
  },
  {
   "cell_type": "code",
   "execution_count": 25,
   "id": "738728a6",
   "metadata": {},
   "outputs": [],
   "source": [
    "#pca=PCA(n_components=25)\n",
    "#pca.fit(scaled_data)"
   ]
  },
  {
   "cell_type": "code",
   "execution_count": 26,
   "id": "8a80d235",
   "metadata": {},
   "outputs": [],
   "source": [
    "#x_pca=pca.transform(scaled_data)"
   ]
  },
  {
   "cell_type": "code",
   "execution_count": 27,
   "id": "9a462ada",
   "metadata": {},
   "outputs": [],
   "source": [
    "#scaled_data.shape"
   ]
  },
  {
   "cell_type": "code",
   "execution_count": 28,
   "id": "cdea72fc",
   "metadata": {},
   "outputs": [],
   "source": [
    "#x_pca.shape"
   ]
  },
  {
   "cell_type": "code",
   "execution_count": 29,
   "id": "41dabb8c",
   "metadata": {},
   "outputs": [],
   "source": [
    "#x_pca"
   ]
  },
  {
   "cell_type": "code",
   "execution_count": 30,
   "id": "31909c7e",
   "metadata": {},
   "outputs": [],
   "source": [
    "it100=data3.iloc[:100,:]"
   ]
  },
  {
   "cell_type": "code",
   "execution_count": 31,
   "id": "4f6ffecd",
   "metadata": {},
   "outputs": [],
   "source": [
    "#it100.head(10)"
   ]
  },
  {
   "cell_type": "code",
   "execution_count": 32,
   "id": "9ac848a8",
   "metadata": {},
   "outputs": [],
   "source": [
    "#it100.info()"
   ]
  },
  {
   "cell_type": "code",
   "execution_count": 33,
   "id": "e377123d",
   "metadata": {},
   "outputs": [],
   "source": [
    "it200=data3.iloc[:200,:]\n",
    "#it200.info()"
   ]
  },
  {
   "cell_type": "code",
   "execution_count": 34,
   "id": "d7db0a35",
   "metadata": {},
   "outputs": [],
   "source": [
    "it300=data3.iloc[:300,:]\n",
    "#it300.info()"
   ]
  },
  {
   "cell_type": "code",
   "execution_count": 35,
   "id": "a20d591f",
   "metadata": {},
   "outputs": [],
   "source": [
    "it400=data3.iloc[:400,:]\n",
    "#it400.info()"
   ]
  },
  {
   "cell_type": "code",
   "execution_count": 36,
   "id": "2fc12cdc",
   "metadata": {},
   "outputs": [],
   "source": [
    "it500=data3.iloc[:500,:]\n",
    "#it500.info()"
   ]
  },
  {
   "cell_type": "code",
   "execution_count": null,
   "id": "2ef3b894",
   "metadata": {},
   "outputs": [],
   "source": []
  }
 ],
 "metadata": {
  "kernelspec": {
   "display_name": "Python 3 (ipykernel)",
   "language": "python",
   "name": "python3"
  },
  "language_info": {
   "codemirror_mode": {
    "name": "ipython",
    "version": 3
   },
   "file_extension": ".py",
   "mimetype": "text/x-python",
   "name": "python",
   "nbconvert_exporter": "python",
   "pygments_lexer": "ipython3",
   "version": "3.11.7"
  }
 },
 "nbformat": 4,
 "nbformat_minor": 5
}
