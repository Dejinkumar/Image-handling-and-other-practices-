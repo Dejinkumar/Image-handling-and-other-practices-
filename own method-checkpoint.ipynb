{
 "cells": [
  {
   "cell_type": "code",
   "execution_count": 1,
   "id": "de1b5070",
   "metadata": {},
   "outputs": [
    {
     "data": {
      "application/javascript": [
       "\n",
       "            setTimeout(function() {\n",
       "                var nbb_cell_id = 1;\n",
       "                var nbb_unformatted_code = \"%load_ext nb_black\\nimport findspark\\n\\nfindspark.init()\\nfrom pyspark.sql import SparkSession\\nimport pyspark.mllib.feature as fs\\nfrom pyspark.mllib.stat import _statistics\\nfrom pyspark.ml.feature import VectorAssembler\\nimport pyspark.sql.functions as F\\nimport pyspark.sql.types as T\\nimport pandas as pd\\nimport numpy as np\\n\\n\\nspark = SparkSession.builder.getOrCreate()\";\n",
       "                var nbb_formatted_code = \"%load_ext nb_black\\nimport findspark\\n\\nfindspark.init()\\nfrom pyspark.sql import SparkSession\\nimport pyspark.mllib.feature as fs\\nfrom pyspark.mllib.stat import _statistics\\nfrom pyspark.ml.feature import VectorAssembler\\nimport pyspark.sql.functions as F\\nimport pyspark.sql.types as T\\nimport pandas as pd\\nimport numpy as np\\n\\n\\nspark = SparkSession.builder.getOrCreate()\";\n",
       "                var nbb_cells = Jupyter.notebook.get_cells();\n",
       "                for (var i = 0; i < nbb_cells.length; ++i) {\n",
       "                    if (nbb_cells[i].input_prompt_number == nbb_cell_id) {\n",
       "                        if (nbb_cells[i].get_text() == nbb_unformatted_code) {\n",
       "                             nbb_cells[i].set_text(nbb_formatted_code);\n",
       "                        }\n",
       "                        break;\n",
       "                    }\n",
       "                }\n",
       "            }, 500);\n",
       "            "
      ],
      "text/plain": [
       "<IPython.core.display.Javascript object>"
      ]
     },
     "metadata": {},
     "output_type": "display_data"
    }
   ],
   "source": [
    "%load_ext nb_black\n",
    "import findspark\n",
    "\n",
    "findspark.init()\n",
    "from pyspark.sql import SparkSession\n",
    "import pyspark.mllib.feature as fs\n",
    "from pyspark.mllib.stat import _statistics\n",
    "from pyspark.ml.feature import VectorAssembler\n",
    "import pyspark.sql.functions as F\n",
    "import pyspark.sql.types as T\n",
    "import pandas as pd\n",
    "import numpy as np\n",
    "\n",
    "\n",
    "spark = SparkSession.builder.getOrCreate()"
   ]
  },
  {
   "cell_type": "code",
   "execution_count": 2,
   "id": "04b42739",
   "metadata": {},
   "outputs": [
    {
     "data": {
      "application/javascript": [
       "\n",
       "            setTimeout(function() {\n",
       "                var nbb_cell_id = 2;\n",
       "                var nbb_unformatted_code = \"# SparkSession.builder.getOrCreate() instead.\";\n",
       "                var nbb_formatted_code = \"# SparkSession.builder.getOrCreate() instead.\";\n",
       "                var nbb_cells = Jupyter.notebook.get_cells();\n",
       "                for (var i = 0; i < nbb_cells.length; ++i) {\n",
       "                    if (nbb_cells[i].input_prompt_number == nbb_cell_id) {\n",
       "                        if (nbb_cells[i].get_text() == nbb_unformatted_code) {\n",
       "                             nbb_cells[i].set_text(nbb_formatted_code);\n",
       "                        }\n",
       "                        break;\n",
       "                    }\n",
       "                }\n",
       "            }, 500);\n",
       "            "
      ],
      "text/plain": [
       "<IPython.core.display.Javascript object>"
      ]
     },
     "metadata": {},
     "output_type": "display_data"
    }
   ],
   "source": [
    "# SparkSession.builder.getOrCreate() instead."
   ]
  },
  {
   "cell_type": "code",
   "execution_count": 3,
   "id": "d39e26cb",
   "metadata": {},
   "outputs": [
    {
     "data": {
      "text/html": [
       "\n",
       "            <div>\n",
       "                <p><b>SparkSession - in-memory</b></p>\n",
       "                \n",
       "        <div>\n",
       "            <p><b>SparkContext</b></p>\n",
       "\n",
       "            <p><a href=\"http://DESKTOP-M41HE39:4040\">Spark UI</a></p>\n",
       "\n",
       "            <dl>\n",
       "              <dt>Version</dt>\n",
       "                <dd><code>v3.3.0</code></dd>\n",
       "              <dt>Master</dt>\n",
       "                <dd><code>local[*]</code></dd>\n",
       "              <dt>AppName</dt>\n",
       "                <dd><code>pyspark-shell</code></dd>\n",
       "            </dl>\n",
       "        </div>\n",
       "        \n",
       "            </div>\n",
       "        "
      ],
      "text/plain": [
       "<pyspark.sql.session.SparkSession at 0x26e5a3d66d0>"
      ]
     },
     "execution_count": 3,
     "metadata": {},
     "output_type": "execute_result"
    },
    {
     "data": {
      "application/javascript": [
       "\n",
       "            setTimeout(function() {\n",
       "                var nbb_cell_id = 3;\n",
       "                var nbb_unformatted_code = \"spark\";\n",
       "                var nbb_formatted_code = \"spark\";\n",
       "                var nbb_cells = Jupyter.notebook.get_cells();\n",
       "                for (var i = 0; i < nbb_cells.length; ++i) {\n",
       "                    if (nbb_cells[i].input_prompt_number == nbb_cell_id) {\n",
       "                        if (nbb_cells[i].get_text() == nbb_unformatted_code) {\n",
       "                             nbb_cells[i].set_text(nbb_formatted_code);\n",
       "                        }\n",
       "                        break;\n",
       "                    }\n",
       "                }\n",
       "            }, 500);\n",
       "            "
      ],
      "text/plain": [
       "<IPython.core.display.Javascript object>"
      ]
     },
     "metadata": {},
     "output_type": "display_data"
    }
   ],
   "source": [
    "spark"
   ]
  },
  {
   "cell_type": "code",
   "execution_count": 4,
   "id": "a22cb3d5",
   "metadata": {},
   "outputs": [
    {
     "data": {
      "application/javascript": [
       "\n",
       "            setTimeout(function() {\n",
       "                var nbb_cell_id = 4;\n",
       "                var nbb_unformatted_code = \"data = spark.read.csv(\\\"DDoS attack Big DataF.csv\\\", inferSchema=True, header=True)\";\n",
       "                var nbb_formatted_code = \"data = spark.read.csv(\\\"DDoS attack Big DataF.csv\\\", inferSchema=True, header=True)\";\n",
       "                var nbb_cells = Jupyter.notebook.get_cells();\n",
       "                for (var i = 0; i < nbb_cells.length; ++i) {\n",
       "                    if (nbb_cells[i].input_prompt_number == nbb_cell_id) {\n",
       "                        if (nbb_cells[i].get_text() == nbb_unformatted_code) {\n",
       "                             nbb_cells[i].set_text(nbb_formatted_code);\n",
       "                        }\n",
       "                        break;\n",
       "                    }\n",
       "                }\n",
       "            }, 500);\n",
       "            "
      ],
      "text/plain": [
       "<IPython.core.display.Javascript object>"
      ]
     },
     "metadata": {},
     "output_type": "display_data"
    }
   ],
   "source": [
    "data = spark.read.csv(\"DDoS attack Big DataF.csv\", inferSchema=True, header=True)"
   ]
  },
  {
   "cell_type": "code",
   "execution_count": 5,
   "id": "d0be5188",
   "metadata": {},
   "outputs": [
    {
     "data": {
      "application/javascript": [
       "\n",
       "            setTimeout(function() {\n",
       "                var nbb_cell_id = 5;\n",
       "                var nbb_unformatted_code = \"#df.show()\";\n",
       "                var nbb_formatted_code = \"# df.show()\";\n",
       "                var nbb_cells = Jupyter.notebook.get_cells();\n",
       "                for (var i = 0; i < nbb_cells.length; ++i) {\n",
       "                    if (nbb_cells[i].input_prompt_number == nbb_cell_id) {\n",
       "                        if (nbb_cells[i].get_text() == nbb_unformatted_code) {\n",
       "                             nbb_cells[i].set_text(nbb_formatted_code);\n",
       "                        }\n",
       "                        break;\n",
       "                    }\n",
       "                }\n",
       "            }, 500);\n",
       "            "
      ],
      "text/plain": [
       "<IPython.core.display.Javascript object>"
      ]
     },
     "metadata": {},
     "output_type": "display_data"
    }
   ],
   "source": [
    "# df.show()"
   ]
  },
  {
   "cell_type": "code",
   "execution_count": 6,
   "id": "eb8ab594",
   "metadata": {},
   "outputs": [
    {
     "data": {
      "application/javascript": [
       "\n",
       "            setTimeout(function() {\n",
       "                var nbb_cell_id = 6;\n",
       "                var nbb_unformatted_code = \"#df.dtypes\";\n",
       "                var nbb_formatted_code = \"# df.dtypes\";\n",
       "                var nbb_cells = Jupyter.notebook.get_cells();\n",
       "                for (var i = 0; i < nbb_cells.length; ++i) {\n",
       "                    if (nbb_cells[i].input_prompt_number == nbb_cell_id) {\n",
       "                        if (nbb_cells[i].get_text() == nbb_unformatted_code) {\n",
       "                             nbb_cells[i].set_text(nbb_formatted_code);\n",
       "                        }\n",
       "                        break;\n",
       "                    }\n",
       "                }\n",
       "            }, 500);\n",
       "            "
      ],
      "text/plain": [
       "<IPython.core.display.Javascript object>"
      ]
     },
     "metadata": {},
     "output_type": "display_data"
    }
   ],
   "source": [
    "# df.dtypes"
   ]
  },
  {
   "cell_type": "code",
   "execution_count": 7,
   "id": "c9f863f0",
   "metadata": {},
   "outputs": [
    {
     "data": {
      "application/javascript": [
       "\n",
       "            setTimeout(function() {\n",
       "                var nbb_cell_id = 7;\n",
       "                var nbb_unformatted_code = \"#df.printSchema()\";\n",
       "                var nbb_formatted_code = \"# df.printSchema()\";\n",
       "                var nbb_cells = Jupyter.notebook.get_cells();\n",
       "                for (var i = 0; i < nbb_cells.length; ++i) {\n",
       "                    if (nbb_cells[i].input_prompt_number == nbb_cell_id) {\n",
       "                        if (nbb_cells[i].get_text() == nbb_unformatted_code) {\n",
       "                             nbb_cells[i].set_text(nbb_formatted_code);\n",
       "                        }\n",
       "                        break;\n",
       "                    }\n",
       "                }\n",
       "            }, 500);\n",
       "            "
      ],
      "text/plain": [
       "<IPython.core.display.Javascript object>"
      ]
     },
     "metadata": {},
     "output_type": "display_data"
    }
   ],
   "source": [
    "# df.printSchema()"
   ]
  },
  {
   "cell_type": "code",
   "execution_count": 8,
   "id": "e08c93f9",
   "metadata": {},
   "outputs": [
    {
     "data": {
      "application/javascript": [
       "\n",
       "            setTimeout(function() {\n",
       "                var nbb_cell_id = 8;\n",
       "                var nbb_unformatted_code = \"#print(df.describe().show())\";\n",
       "                var nbb_formatted_code = \"# print(df.describe().show())\";\n",
       "                var nbb_cells = Jupyter.notebook.get_cells();\n",
       "                for (var i = 0; i < nbb_cells.length; ++i) {\n",
       "                    if (nbb_cells[i].input_prompt_number == nbb_cell_id) {\n",
       "                        if (nbb_cells[i].get_text() == nbb_unformatted_code) {\n",
       "                             nbb_cells[i].set_text(nbb_formatted_code);\n",
       "                        }\n",
       "                        break;\n",
       "                    }\n",
       "                }\n",
       "            }, 500);\n",
       "            "
      ],
      "text/plain": [
       "<IPython.core.display.Javascript object>"
      ]
     },
     "metadata": {},
     "output_type": "display_data"
    }
   ],
   "source": [
    "# print(df.describe().show())"
   ]
  },
  {
   "cell_type": "code",
   "execution_count": 9,
   "id": "30f95372",
   "metadata": {},
   "outputs": [
    {
     "data": {
      "application/javascript": [
       "\n",
       "            setTimeout(function() {\n",
       "                var nbb_cell_id = 9;\n",
       "                var nbb_unformatted_code = \"df = data.select(*(F.col(c).cast(\\\"float\\\") for c in data.columns))\";\n",
       "                var nbb_formatted_code = \"df = data.select(*(F.col(c).cast(\\\"float\\\") for c in data.columns))\";\n",
       "                var nbb_cells = Jupyter.notebook.get_cells();\n",
       "                for (var i = 0; i < nbb_cells.length; ++i) {\n",
       "                    if (nbb_cells[i].input_prompt_number == nbb_cell_id) {\n",
       "                        if (nbb_cells[i].get_text() == nbb_unformatted_code) {\n",
       "                             nbb_cells[i].set_text(nbb_formatted_code);\n",
       "                        }\n",
       "                        break;\n",
       "                    }\n",
       "                }\n",
       "            }, 500);\n",
       "            "
      ],
      "text/plain": [
       "<IPython.core.display.Javascript object>"
      ]
     },
     "metadata": {},
     "output_type": "display_data"
    }
   ],
   "source": [
    "df = data.select(*(F.col(c).cast(\"float\") for c in data.columns))"
   ]
  },
  {
   "cell_type": "code",
   "execution_count": 10,
   "id": "f7d2bb73",
   "metadata": {},
   "outputs": [
    {
     "name": "stdout",
     "output_type": "stream",
     "text": [
      "root\n",
      " |-- Flow_Bytes_Sec0: float (nullable = true)\n",
      " |-- Flow_Bytes_Sec1: float (nullable = true)\n",
      " |-- SYN_Flag_Count: float (nullable = true)\n",
      " |-- Init_Win_bytes_backward: float (nullable = true)\n",
      " |-- Idle_Max: float (nullable = true)\n",
      " |-- PSH_Flag_Count: float (nullable = true)\n",
      " |-- ACK_Flag_Count: float (nullable = true)\n",
      " |-- URG_Flag_Count: float (nullable = true)\n",
      " |-- Packet_Length_Mean: float (nullable = true)\n",
      " |-- Packet_Length_Std: float (nullable = true)\n",
      " |-- Packet_Length_Variance: float (nullable = true)\n",
      " |-- Bwd_IAT_Total: float (nullable = true)\n",
      " |-- Fwd_IAT_Std: float (nullable = true)\n",
      " |-- Fwd_IAT_Max: float (nullable = true)\n",
      " |-- Flow_IAT_Mean: float (nullable = true)\n",
      " |-- Flow_IAT_Std: float (nullable = true)\n",
      " |-- Flow_IAT_Max: float (nullable = true)\n",
      " |-- Fwd_Packet_Length_Std: float (nullable = true)\n",
      " |-- Bwd_Packet_Length_Max: float (nullable = true)\n",
      " |-- Bwd_Packet_Length_Min: float (nullable = true)\n",
      " |-- Bwd_Packet_Length_Mean: float (nullable = true)\n",
      " |-- Bwd_Packet_Length_Std: float (nullable = true)\n",
      " |-- Fwd_Packet_Length_Min: float (nullable = true)\n",
      " |-- Destination_Port: float (nullable = true)\n",
      " |-- Flow_Duration: float (nullable = true)\n",
      " |-- Label: float (nullable = true)\n",
      "\n"
     ]
    },
    {
     "data": {
      "application/javascript": [
       "\n",
       "            setTimeout(function() {\n",
       "                var nbb_cell_id = 10;\n",
       "                var nbb_unformatted_code = \"df.printSchema()\";\n",
       "                var nbb_formatted_code = \"df.printSchema()\";\n",
       "                var nbb_cells = Jupyter.notebook.get_cells();\n",
       "                for (var i = 0; i < nbb_cells.length; ++i) {\n",
       "                    if (nbb_cells[i].input_prompt_number == nbb_cell_id) {\n",
       "                        if (nbb_cells[i].get_text() == nbb_unformatted_code) {\n",
       "                             nbb_cells[i].set_text(nbb_formatted_code);\n",
       "                        }\n",
       "                        break;\n",
       "                    }\n",
       "                }\n",
       "            }, 500);\n",
       "            "
      ],
      "text/plain": [
       "<IPython.core.display.Javascript object>"
      ]
     },
     "metadata": {},
     "output_type": "display_data"
    }
   ],
   "source": [
    "df.printSchema()"
   ]
  },
  {
   "cell_type": "code",
   "execution_count": null,
   "id": "c8f080bb",
   "metadata": {},
   "outputs": [],
   "source": []
  },
  {
   "cell_type": "code",
   "execution_count": 11,
   "id": "d9170f2b",
   "metadata": {},
   "outputs": [
    {
     "data": {
      "application/javascript": [
       "\n",
       "            setTimeout(function() {\n",
       "                var nbb_cell_id = 11;\n",
       "                var nbb_unformatted_code = \"required_features = [\\n    \\\"Flow_Bytes_Sec0\\\",\\n    \\\"Flow_Bytes_Sec1\\\",\\n    \\\"SYN_Flag_Count\\\",\\n    \\\"Init_Win_bytes_backward\\\",\\n    \\\"Idle_Max\\\",\\n    \\\"PSH_Flag_Count\\\",\\n    \\\"ACK_Flag_Count\\\",\\n    \\\"URG_Flag_Count\\\",\\n    \\\"Packet_Length_Mean\\\",\\n    \\\"Packet_Length_Std\\\",\\n    \\\"Packet_Length_Variance\\\",\\n    \\\"Bwd_IAT_Total\\\",\\n    \\\"Fwd_IAT_Std\\\",\\n    \\\"Fwd_IAT_Max\\\",\\n    \\\"Flow_IAT_Mean\\\",\\n    \\\"Flow_IAT_Std\\\",\\n    \\\"Flow_IAT_Max\\\",\\n    \\\"Fwd_Packet_Length_Std\\\",\\n    \\\"Bwd_Packet_Length_Max\\\",\\n    \\\"Bwd_Packet_Length_Min\\\",\\n    \\\"Bwd_Packet_Length_Mean\\\",\\n    \\\"Bwd_Packet_Length_Std\\\",\\n    \\\"Fwd_Packet_Length_Min\\\",\\n    \\\"Destination_Port\\\",\\n    \\\"Flow_Duration\\\",\\n]\";\n",
       "                var nbb_formatted_code = \"required_features = [\\n    \\\"Flow_Bytes_Sec0\\\",\\n    \\\"Flow_Bytes_Sec1\\\",\\n    \\\"SYN_Flag_Count\\\",\\n    \\\"Init_Win_bytes_backward\\\",\\n    \\\"Idle_Max\\\",\\n    \\\"PSH_Flag_Count\\\",\\n    \\\"ACK_Flag_Count\\\",\\n    \\\"URG_Flag_Count\\\",\\n    \\\"Packet_Length_Mean\\\",\\n    \\\"Packet_Length_Std\\\",\\n    \\\"Packet_Length_Variance\\\",\\n    \\\"Bwd_IAT_Total\\\",\\n    \\\"Fwd_IAT_Std\\\",\\n    \\\"Fwd_IAT_Max\\\",\\n    \\\"Flow_IAT_Mean\\\",\\n    \\\"Flow_IAT_Std\\\",\\n    \\\"Flow_IAT_Max\\\",\\n    \\\"Fwd_Packet_Length_Std\\\",\\n    \\\"Bwd_Packet_Length_Max\\\",\\n    \\\"Bwd_Packet_Length_Min\\\",\\n    \\\"Bwd_Packet_Length_Mean\\\",\\n    \\\"Bwd_Packet_Length_Std\\\",\\n    \\\"Fwd_Packet_Length_Min\\\",\\n    \\\"Destination_Port\\\",\\n    \\\"Flow_Duration\\\",\\n]\";\n",
       "                var nbb_cells = Jupyter.notebook.get_cells();\n",
       "                for (var i = 0; i < nbb_cells.length; ++i) {\n",
       "                    if (nbb_cells[i].input_prompt_number == nbb_cell_id) {\n",
       "                        if (nbb_cells[i].get_text() == nbb_unformatted_code) {\n",
       "                             nbb_cells[i].set_text(nbb_formatted_code);\n",
       "                        }\n",
       "                        break;\n",
       "                    }\n",
       "                }\n",
       "            }, 500);\n",
       "            "
      ],
      "text/plain": [
       "<IPython.core.display.Javascript object>"
      ]
     },
     "metadata": {},
     "output_type": "display_data"
    }
   ],
   "source": [
    "required_features = [\n",
    "    \"Flow_Bytes_Sec0\",\n",
    "    \"Flow_Bytes_Sec1\",\n",
    "    \"SYN_Flag_Count\",\n",
    "    \"Init_Win_bytes_backward\",\n",
    "    \"Idle_Max\",\n",
    "    \"PSH_Flag_Count\",\n",
    "    \"ACK_Flag_Count\",\n",
    "    \"URG_Flag_Count\",\n",
    "    \"Packet_Length_Mean\",\n",
    "    \"Packet_Length_Std\",\n",
    "    \"Packet_Length_Variance\",\n",
    "    \"Bwd_IAT_Total\",\n",
    "    \"Fwd_IAT_Std\",\n",
    "    \"Fwd_IAT_Max\",\n",
    "    \"Flow_IAT_Mean\",\n",
    "    \"Flow_IAT_Std\",\n",
    "    \"Flow_IAT_Max\",\n",
    "    \"Fwd_Packet_Length_Std\",\n",
    "    \"Bwd_Packet_Length_Max\",\n",
    "    \"Bwd_Packet_Length_Min\",\n",
    "    \"Bwd_Packet_Length_Mean\",\n",
    "    \"Bwd_Packet_Length_Std\",\n",
    "    \"Fwd_Packet_Length_Min\",\n",
    "    \"Destination_Port\",\n",
    "    \"Flow_Duration\",\n",
    "]"
   ]
  },
  {
   "cell_type": "code",
   "execution_count": 12,
   "id": "b93f2b18",
   "metadata": {},
   "outputs": [
    {
     "data": {
      "application/javascript": [
       "\n",
       "            setTimeout(function() {\n",
       "                var nbb_cell_id = 12;\n",
       "                var nbb_unformatted_code = \"vectoe_assembler = VectorAssembler(inputCols=required_features, outputCol=\\\"features\\\")\";\n",
       "                var nbb_formatted_code = \"vectoe_assembler = VectorAssembler(inputCols=required_features, outputCol=\\\"features\\\")\";\n",
       "                var nbb_cells = Jupyter.notebook.get_cells();\n",
       "                for (var i = 0; i < nbb_cells.length; ++i) {\n",
       "                    if (nbb_cells[i].input_prompt_number == nbb_cell_id) {\n",
       "                        if (nbb_cells[i].get_text() == nbb_unformatted_code) {\n",
       "                             nbb_cells[i].set_text(nbb_formatted_code);\n",
       "                        }\n",
       "                        break;\n",
       "                    }\n",
       "                }\n",
       "            }, 500);\n",
       "            "
      ],
      "text/plain": [
       "<IPython.core.display.Javascript object>"
      ]
     },
     "metadata": {},
     "output_type": "display_data"
    }
   ],
   "source": [
    "vectoe_assembler = VectorAssembler(inputCols=required_features, outputCol=\"features\")"
   ]
  },
  {
   "cell_type": "code",
   "execution_count": 13,
   "id": "07c393db",
   "metadata": {},
   "outputs": [
    {
     "data": {
      "application/javascript": [
       "\n",
       "            setTimeout(function() {\n",
       "                var nbb_cell_id = 13;\n",
       "                var nbb_unformatted_code = \"vec_df = vectoe_assembler.transform(df)\";\n",
       "                var nbb_formatted_code = \"vec_df = vectoe_assembler.transform(df)\";\n",
       "                var nbb_cells = Jupyter.notebook.get_cells();\n",
       "                for (var i = 0; i < nbb_cells.length; ++i) {\n",
       "                    if (nbb_cells[i].input_prompt_number == nbb_cell_id) {\n",
       "                        if (nbb_cells[i].get_text() == nbb_unformatted_code) {\n",
       "                             nbb_cells[i].set_text(nbb_formatted_code);\n",
       "                        }\n",
       "                        break;\n",
       "                    }\n",
       "                }\n",
       "            }, 500);\n",
       "            "
      ],
      "text/plain": [
       "<IPython.core.display.Javascript object>"
      ]
     },
     "metadata": {},
     "output_type": "display_data"
    }
   ],
   "source": [
    "vec_df = vectoe_assembler.transform(df)"
   ]
  },
  {
   "cell_type": "code",
   "execution_count": 14,
   "id": "dee13fca",
   "metadata": {},
   "outputs": [
    {
     "name": "stdout",
     "output_type": "stream",
     "text": [
      "+---------------+---------------+--------------+-----------------------+--------+--------------+--------------+--------------+------------------+-----------------+----------------------+-------------+-----------+-----------+-------------+------------+------------+---------------------+---------------------+---------------------+----------------------+---------------------+---------------------+----------------+-------------+-----+----------------------------------------------------------------------------------------------------------------------------------------------------------------------------------------------------------------------------------------------+\n",
      "|Flow_Bytes_Sec0|Flow_Bytes_Sec1|SYN_Flag_Count|Init_Win_bytes_backward|Idle_Max|PSH_Flag_Count|ACK_Flag_Count|URG_Flag_Count|Packet_Length_Mean|Packet_Length_Std|Packet_Length_Variance|Bwd_IAT_Total|Fwd_IAT_Std|Fwd_IAT_Max|Flow_IAT_Mean|Flow_IAT_Std|Flow_IAT_Max|Fwd_Packet_Length_Std|Bwd_Packet_Length_Max|Bwd_Packet_Length_Min|Bwd_Packet_Length_Mean|Bwd_Packet_Length_Std|Fwd_Packet_Length_Min|Destination_Port|Flow_Duration|Label|features                                                                                                                                                                                                                                      |\n",
      "+---------------+---------------+--------------+-----------------------+--------+--------------+--------------+--------------+------------------+-----------------+----------------------+-------------+-----------+-----------+-------------+------------+------------+---------------------+---------------------+---------------------+----------------------+---------------------+---------------------+----------------+-------------+-----+----------------------------------------------------------------------------------------------------------------------------------------------------------------------------------------------------------------------------------------------+\n",
      "|9.5780525      |9.5780525      |1.0           |29200.0                |7.9E7   |0.0           |0.0           |0.0           |44.045456         |114.16466        |13033.569             |0.0          |1.84E7     |7.9E7      |5058439.5    |1.8E7       |7.9E7       |119.08355            |0.0                  |0.0                  |0.0                   |0.0                  |0.0                  |80.0            |1.01168792E8 |1.0  |[9.578052520751953,9.578052520751953,1.0,29200.0,7.9E7,0.0,0.0,0.0,44.04545593261719,114.16465759277344,13033.5693359375,0.0,1.84E7,7.9E7,5058439.5,1.8E7,7.9E7,119.08354949951172,0.0,0.0,0.0,0.0,0.0,80.0,1.01168792E8]                     |\n",
      "|2.0            |2.0            |0.0           |33304.0                |0.0     |0.0           |1.0           |1.0           |0.0               |0.0              |0.0                   |0.0          |0.0        |0.0        |58.0         |0.0         |58.0        |0.0                  |0.0                  |0.0                  |0.0                   |0.0                  |0.0                  |60711.0         |58.0         |0.0  |(25,[0,1,3,6,7,14,16,23,24],[2.0,2.0,33304.0,1.0,1.0,58.0,58.0,60711.0,58.0])                                                                                                                                                                 |\n",
      "|36909.0        |36909.0        |0.0           |-1.0                   |0.0     |0.0           |0.0           |0.0           |61.285713         |41.475754        |1720.238              |1.0          |17434.824  |30200.0    |6229.2       |13406.256   |30200.0     |0.0                  |122.0                |122.0                |122.0                 |0.0                  |37.0                 |53.0            |31146.0      |0.0  |[36909.0,36909.0,0.0,-1.0,0.0,0.0,0.0,0.0,61.28571319580078,41.47575378417969,1720.238037109375,1.0,17434.82421875,30200.0,6229.2001953125,13406.255859375,30200.0,0.0,122.0,122.0,122.0,0.0,37.0,53.0,31146.0]                               |\n",
      "|158570.0       |158570.0       |0.0           |237.0                  |0.0     |1.0           |0.0           |0.0           |102.25            |184.20699        |33932.215             |130788.0     |83032.72   |123956.0   |42450.668    |63132.977   |123916.0    |242.50568            |377.0                |0.0                  |97.25                 |186.52145            |0.0                  |80.0            |254704.0     |0.0  |[158570.0,158570.0,0.0,237.0,0.0,1.0,0.0,0.0,102.25,184.2069854736328,33932.21484375,130788.0,83032.71875,123956.0,42450.66796875,63132.9765625,123916.0,242.50567626953125,377.0,0.0,97.25,186.52145385742188,0.0,80.0,254704.0]             |\n",
      "|79335.0        |79335.0        |0.0           |100.0                  |0.0     |1.0           |0.0           |0.0           |714.931           |764.3892         |584290.9              |1.1846006E7  |68550.32   |241684.0   |441928.78    |2120637.2   |1.104929E7  |644.8966             |1793.0               |0.0                  |981.4375              |778.3778             |0.0                  |443.0           |1.1932077E7  |0.0  |[79335.0,79335.0,0.0,100.0,0.0,1.0,0.0,0.0,714.9310302734375,764.3892211914062,584290.875,1.1846006E7,68550.3203125,241684.0,441928.78125,2120637.25,1.104929E7,644.8966064453125,1793.0,0.0,981.4375,778.3778076171875,0.0,443.0,1.1932077E7]|\n",
      "+---------------+---------------+--------------+-----------------------+--------+--------------+--------------+--------------+------------------+-----------------+----------------------+-------------+-----------+-----------+-------------+------------+------------+---------------------+---------------------+---------------------+----------------------+---------------------+---------------------+----------------+-------------+-----+----------------------------------------------------------------------------------------------------------------------------------------------------------------------------------------------------------------------------------------------+\n",
      "only showing top 5 rows\n",
      "\n"
     ]
    },
    {
     "data": {
      "application/javascript": [
       "\n",
       "            setTimeout(function() {\n",
       "                var nbb_cell_id = 14;\n",
       "                var nbb_unformatted_code = \"vec_df.show(5, truncate=False)\";\n",
       "                var nbb_formatted_code = \"vec_df.show(5, truncate=False)\";\n",
       "                var nbb_cells = Jupyter.notebook.get_cells();\n",
       "                for (var i = 0; i < nbb_cells.length; ++i) {\n",
       "                    if (nbb_cells[i].input_prompt_number == nbb_cell_id) {\n",
       "                        if (nbb_cells[i].get_text() == nbb_unformatted_code) {\n",
       "                             nbb_cells[i].set_text(nbb_formatted_code);\n",
       "                        }\n",
       "                        break;\n",
       "                    }\n",
       "                }\n",
       "            }, 500);\n",
       "            "
      ],
      "text/plain": [
       "<IPython.core.display.Javascript object>"
      ]
     },
     "metadata": {},
     "output_type": "display_data"
    }
   ],
   "source": [
    "vec_df.show(5, truncate=False)"
   ]
  },
  {
   "cell_type": "code",
   "execution_count": 15,
   "id": "10724a1e",
   "metadata": {},
   "outputs": [
    {
     "data": {
      "text/plain": [
       "809361"
      ]
     },
     "execution_count": 15,
     "metadata": {},
     "output_type": "execute_result"
    },
    {
     "data": {
      "application/javascript": [
       "\n",
       "            setTimeout(function() {\n",
       "                var nbb_cell_id = 15;\n",
       "                var nbb_unformatted_code = \"vec_df.count()\";\n",
       "                var nbb_formatted_code = \"vec_df.count()\";\n",
       "                var nbb_cells = Jupyter.notebook.get_cells();\n",
       "                for (var i = 0; i < nbb_cells.length; ++i) {\n",
       "                    if (nbb_cells[i].input_prompt_number == nbb_cell_id) {\n",
       "                        if (nbb_cells[i].get_text() == nbb_unformatted_code) {\n",
       "                             nbb_cells[i].set_text(nbb_formatted_code);\n",
       "                        }\n",
       "                        break;\n",
       "                    }\n",
       "                }\n",
       "            }, 500);\n",
       "            "
      ],
      "text/plain": [
       "<IPython.core.display.Javascript object>"
      ]
     },
     "metadata": {},
     "output_type": "display_data"
    }
   ],
   "source": [
    "vec_df.count()"
   ]
  },
  {
   "cell_type": "code",
   "execution_count": 16,
   "id": "222073f3",
   "metadata": {},
   "outputs": [
    {
     "data": {
      "application/javascript": [
       "\n",
       "            setTimeout(function() {\n",
       "                var nbb_cell_id = 16;\n",
       "                var nbb_unformatted_code = \"train_df, test_df = vec_df.randomSplit([0.7, 0.3])\";\n",
       "                var nbb_formatted_code = \"train_df, test_df = vec_df.randomSplit([0.7, 0.3])\";\n",
       "                var nbb_cells = Jupyter.notebook.get_cells();\n",
       "                for (var i = 0; i < nbb_cells.length; ++i) {\n",
       "                    if (nbb_cells[i].input_prompt_number == nbb_cell_id) {\n",
       "                        if (nbb_cells[i].get_text() == nbb_unformatted_code) {\n",
       "                             nbb_cells[i].set_text(nbb_formatted_code);\n",
       "                        }\n",
       "                        break;\n",
       "                    }\n",
       "                }\n",
       "            }, 500);\n",
       "            "
      ],
      "text/plain": [
       "<IPython.core.display.Javascript object>"
      ]
     },
     "metadata": {},
     "output_type": "display_data"
    }
   ],
   "source": [
    "train_df, test_df = vec_df.randomSplit([0.7, 0.3])"
   ]
  },
  {
   "cell_type": "code",
   "execution_count": 17,
   "id": "68ca8dad",
   "metadata": {},
   "outputs": [
    {
     "data": {
      "text/plain": [
       "566165"
      ]
     },
     "execution_count": 17,
     "metadata": {},
     "output_type": "execute_result"
    },
    {
     "data": {
      "application/javascript": [
       "\n",
       "            setTimeout(function() {\n",
       "                var nbb_cell_id = 17;\n",
       "                var nbb_unformatted_code = \"train_df.count()\";\n",
       "                var nbb_formatted_code = \"train_df.count()\";\n",
       "                var nbb_cells = Jupyter.notebook.get_cells();\n",
       "                for (var i = 0; i < nbb_cells.length; ++i) {\n",
       "                    if (nbb_cells[i].input_prompt_number == nbb_cell_id) {\n",
       "                        if (nbb_cells[i].get_text() == nbb_unformatted_code) {\n",
       "                             nbb_cells[i].set_text(nbb_formatted_code);\n",
       "                        }\n",
       "                        break;\n",
       "                    }\n",
       "                }\n",
       "            }, 500);\n",
       "            "
      ],
      "text/plain": [
       "<IPython.core.display.Javascript object>"
      ]
     },
     "metadata": {},
     "output_type": "display_data"
    }
   ],
   "source": [
    "train_df.count()"
   ]
  },
  {
   "cell_type": "code",
   "execution_count": 18,
   "id": "18e5a847",
   "metadata": {},
   "outputs": [
    {
     "data": {
      "text/plain": [
       "243196"
      ]
     },
     "execution_count": 18,
     "metadata": {},
     "output_type": "execute_result"
    },
    {
     "data": {
      "application/javascript": [
       "\n",
       "            setTimeout(function() {\n",
       "                var nbb_cell_id = 18;\n",
       "                var nbb_unformatted_code = \"test_df.count()\";\n",
       "                var nbb_formatted_code = \"test_df.count()\";\n",
       "                var nbb_cells = Jupyter.notebook.get_cells();\n",
       "                for (var i = 0; i < nbb_cells.length; ++i) {\n",
       "                    if (nbb_cells[i].input_prompt_number == nbb_cell_id) {\n",
       "                        if (nbb_cells[i].get_text() == nbb_unformatted_code) {\n",
       "                             nbb_cells[i].set_text(nbb_formatted_code);\n",
       "                        }\n",
       "                        break;\n",
       "                    }\n",
       "                }\n",
       "            }, 500);\n",
       "            "
      ],
      "text/plain": [
       "<IPython.core.display.Javascript object>"
      ]
     },
     "metadata": {},
     "output_type": "display_data"
    }
   ],
   "source": [
    "test_df.count()"
   ]
  },
  {
   "cell_type": "code",
   "execution_count": 19,
   "id": "8edc49f5",
   "metadata": {},
   "outputs": [
    {
     "data": {
      "application/javascript": [
       "\n",
       "            setTimeout(function() {\n",
       "                var nbb_cell_id = 19;\n",
       "                var nbb_unformatted_code = \"from pyspark.ml.classification import (\\n    RandomForestClassifier,\\n    MultilayerPerceptronClassifier,\\n)\";\n",
       "                var nbb_formatted_code = \"from pyspark.ml.classification import (\\n    RandomForestClassifier,\\n    MultilayerPerceptronClassifier,\\n)\";\n",
       "                var nbb_cells = Jupyter.notebook.get_cells();\n",
       "                for (var i = 0; i < nbb_cells.length; ++i) {\n",
       "                    if (nbb_cells[i].input_prompt_number == nbb_cell_id) {\n",
       "                        if (nbb_cells[i].get_text() == nbb_unformatted_code) {\n",
       "                             nbb_cells[i].set_text(nbb_formatted_code);\n",
       "                        }\n",
       "                        break;\n",
       "                    }\n",
       "                }\n",
       "            }, 500);\n",
       "            "
      ],
      "text/plain": [
       "<IPython.core.display.Javascript object>"
      ]
     },
     "metadata": {},
     "output_type": "display_data"
    }
   ],
   "source": [
    "from pyspark.ml.classification import (\n",
    "    RandomForestClassifier,\n",
    "    MultilayerPerceptronClassifier,\n",
    ")"
   ]
  },
  {
   "cell_type": "code",
   "execution_count": 20,
   "id": "6b4affab",
   "metadata": {},
   "outputs": [
    {
     "data": {
      "application/javascript": [
       "\n",
       "            setTimeout(function() {\n",
       "                var nbb_cell_id = 20;\n",
       "                var nbb_unformatted_code = \"rf = RandomForestClassifier(featuresCol=\\\"features\\\", labelCol=\\\"Label\\\")\";\n",
       "                var nbb_formatted_code = \"rf = RandomForestClassifier(featuresCol=\\\"features\\\", labelCol=\\\"Label\\\")\";\n",
       "                var nbb_cells = Jupyter.notebook.get_cells();\n",
       "                for (var i = 0; i < nbb_cells.length; ++i) {\n",
       "                    if (nbb_cells[i].input_prompt_number == nbb_cell_id) {\n",
       "                        if (nbb_cells[i].get_text() == nbb_unformatted_code) {\n",
       "                             nbb_cells[i].set_text(nbb_formatted_code);\n",
       "                        }\n",
       "                        break;\n",
       "                    }\n",
       "                }\n",
       "            }, 500);\n",
       "            "
      ],
      "text/plain": [
       "<IPython.core.display.Javascript object>"
      ]
     },
     "metadata": {},
     "output_type": "display_data"
    }
   ],
   "source": [
    "rf = RandomForestClassifier(featuresCol=\"features\", labelCol=\"Label\")"
   ]
  },
  {
   "cell_type": "code",
   "execution_count": 21,
   "id": "f704f3e1",
   "metadata": {},
   "outputs": [
    {
     "name": "stdout",
     "output_type": "stream",
     "text": [
      "CPU times: total: 15.6 ms\n",
      "Wall time: 20.7 s\n"
     ]
    },
    {
     "data": {
      "application/javascript": [
       "\n",
       "            setTimeout(function() {\n",
       "                var nbb_cell_id = 21;\n",
       "                var nbb_unformatted_code = \"%%time\\nrf_model = rf.fit(train_df)\";\n",
       "                var nbb_formatted_code = \"%%time\\nrf_model = rf.fit(train_df)\";\n",
       "                var nbb_cells = Jupyter.notebook.get_cells();\n",
       "                for (var i = 0; i < nbb_cells.length; ++i) {\n",
       "                    if (nbb_cells[i].input_prompt_number == nbb_cell_id) {\n",
       "                        if (nbb_cells[i].get_text() == nbb_unformatted_code) {\n",
       "                             nbb_cells[i].set_text(nbb_formatted_code);\n",
       "                        }\n",
       "                        break;\n",
       "                    }\n",
       "                }\n",
       "            }, 500);\n",
       "            "
      ],
      "text/plain": [
       "<IPython.core.display.Javascript object>"
      ]
     },
     "metadata": {},
     "output_type": "display_data"
    }
   ],
   "source": [
    "%%time\n",
    "rf_model = rf.fit(train_df)"
   ]
  },
  {
   "cell_type": "code",
   "execution_count": 22,
   "id": "36439d1b",
   "metadata": {},
   "outputs": [
    {
     "name": "stdout",
     "output_type": "stream",
     "text": [
      "CPU times: total: 0 ns\n",
      "Wall time: 178 ms\n"
     ]
    },
    {
     "data": {
      "application/javascript": [
       "\n",
       "            setTimeout(function() {\n",
       "                var nbb_cell_id = 22;\n",
       "                var nbb_unformatted_code = \"%%time\\ny_pred = rf_model.transform(test_df)\";\n",
       "                var nbb_formatted_code = \"%%time\\ny_pred = rf_model.transform(test_df)\";\n",
       "                var nbb_cells = Jupyter.notebook.get_cells();\n",
       "                for (var i = 0; i < nbb_cells.length; ++i) {\n",
       "                    if (nbb_cells[i].input_prompt_number == nbb_cell_id) {\n",
       "                        if (nbb_cells[i].get_text() == nbb_unformatted_code) {\n",
       "                             nbb_cells[i].set_text(nbb_formatted_code);\n",
       "                        }\n",
       "                        break;\n",
       "                    }\n",
       "                }\n",
       "            }, 500);\n",
       "            "
      ],
      "text/plain": [
       "<IPython.core.display.Javascript object>"
      ]
     },
     "metadata": {},
     "output_type": "display_data"
    }
   ],
   "source": [
    "%%time\n",
    "y_pred = rf_model.transform(test_df)"
   ]
  },
  {
   "cell_type": "code",
   "execution_count": 23,
   "id": "ded4387f",
   "metadata": {},
   "outputs": [
    {
     "name": "stdout",
     "output_type": "stream",
     "text": [
      "+---------------+---------------+--------------+-----------------------+--------+--------------+--------------+--------------+------------------+-----------------+----------------------+-------------+-----------+-----------+-------------+------------+------------+---------------------+---------------------+---------------------+----------------------+---------------------+---------------------+----------------+-------------+-----+---------------------------------------------+----------------------------------------+-----------------------------------------+----------+\n",
      "|Flow_Bytes_Sec0|Flow_Bytes_Sec1|SYN_Flag_Count|Init_Win_bytes_backward|Idle_Max|PSH_Flag_Count|ACK_Flag_Count|URG_Flag_Count|Packet_Length_Mean|Packet_Length_Std|Packet_Length_Variance|Bwd_IAT_Total|Fwd_IAT_Std|Fwd_IAT_Max|Flow_IAT_Mean|Flow_IAT_Std|Flow_IAT_Max|Fwd_Packet_Length_Std|Bwd_Packet_Length_Max|Bwd_Packet_Length_Min|Bwd_Packet_Length_Mean|Bwd_Packet_Length_Std|Fwd_Packet_Length_Min|Destination_Port|Flow_Duration|Label|features                                     |rawPrediction                           |probability                              |prediction|\n",
      "+---------------+---------------+--------------+-----------------------+--------+--------------+--------------+--------------+------------------+-----------------+----------------------+-------------+-----------+-----------+-------------+------------+------------+---------------------+---------------------+---------------------+----------------------+---------------------+---------------------+----------------+-------------+-----+---------------------------------------------+----------------------------------------+-----------------------------------------+----------+\n",
      "|0.0            |0.0            |0.0           |-1.0                   |0.0     |0.0           |0.0           |0.0           |6.0               |0.0              |0.0                   |0.0          |0.0        |0.0        |0.0          |0.0         |0.0         |0.0                  |0.0                  |0.0                  |0.0                   |0.0                  |6.0                  |443.0           |0.0          |0.0  |(25,[3,8,22,23],[-1.0,6.0,6.0,443.0])        |[15.074342803091147,4.925657196908852]  |[0.7537171401545574,0.2462828598454426]  |0.0       |\n",
      "|0.0            |0.0            |0.0           |-1.0                   |0.0     |0.0           |0.0           |0.0           |27.0              |0.0              |0.0                   |0.0          |0.0        |0.0        |0.0          |0.0         |0.0         |0.0                  |0.0                  |0.0                  |0.0                   |0.0                  |27.0                 |23475.0         |0.0          |0.0  |(25,[3,8,22,23],[-1.0,27.0,27.0,23475.0])    |[15.074342803091147,4.925657196908852]  |[0.7537171401545574,0.2462828598454426]  |0.0       |\n",
      "|0.0            |0.0            |0.0           |-1.0                   |0.0     |0.0           |0.0           |0.0           |62.0              |0.0              |0.0                   |0.0          |0.0        |0.0        |0.0          |0.0         |0.0         |0.0                  |0.0                  |0.0                  |0.0                   |0.0                  |62.0                 |137.0           |0.0          |0.0  |(25,[3,8,22,23],[-1.0,62.0,62.0,137.0])      |[15.074342803091147,4.925657196908852]  |[0.7537171401545574,0.2462828598454426]  |0.0       |\n",
      "|0.0            |0.0            |0.0           |-1.0                   |0.0     |0.0           |1.0           |0.0           |6.0               |0.0              |0.0                   |0.0          |0.0        |0.0        |0.0          |0.0         |0.0         |0.0                  |0.0                  |0.0                  |0.0                   |0.0                  |6.0                  |443.0           |0.0          |0.0  |(25,[3,6,8,22,23],[-1.0,1.0,6.0,6.0,443.0])  |[16.605847540192883,3.3941524598071195] |[0.830292377009644,0.16970762299035594]  |0.0       |\n",
      "|0.0            |0.0            |0.0           |-1.0                   |0.0     |0.0           |1.0           |0.0           |6.0               |0.0              |0.0                   |0.0          |0.0        |0.0        |0.0          |0.0         |0.0         |0.0                  |0.0                  |0.0                  |0.0                   |0.0                  |6.0                  |65514.0         |0.0          |0.0  |(25,[3,6,8,22,23],[-1.0,1.0,6.0,6.0,65514.0])|[16.605847540192883,3.3941524598071195] |[0.830292377009644,0.16970762299035594]  |0.0       |\n",
      "|0.0            |0.0            |0.0           |0.0                    |0.0     |0.0           |0.0           |0.0           |0.0               |0.0              |0.0                   |0.0          |0.0        |0.0        |1.0          |0.0         |1.0         |0.0                  |0.0                  |0.0                  |0.0                   |0.0                  |0.0                  |80.0            |1.0          |1.0  |(25,[14,16,23,24],[1.0,1.0,80.0,1.0])        |[0.11856119439408754,19.881438805605914]|[0.005928059719704377,0.9940719402802957]|1.0       |\n",
      "|0.0            |0.0            |0.0           |0.0                    |0.0     |0.0           |0.0           |0.0           |0.0               |0.0              |0.0                   |0.0          |0.0        |0.0        |1.0          |0.0         |1.0         |0.0                  |0.0                  |0.0                  |0.0                   |0.0                  |0.0                  |80.0            |1.0          |1.0  |(25,[14,16,23,24],[1.0,1.0,80.0,1.0])        |[0.11856119439408754,19.881438805605914]|[0.005928059719704377,0.9940719402802957]|1.0       |\n",
      "|0.0            |0.0            |0.0           |0.0                    |0.0     |0.0           |0.0           |0.0           |0.0               |0.0              |0.0                   |0.0          |0.0        |0.0        |1.0          |0.0         |1.0         |0.0                  |0.0                  |0.0                  |0.0                   |0.0                  |0.0                  |80.0            |1.0          |1.0  |(25,[14,16,23,24],[1.0,1.0,80.0,1.0])        |[0.11856119439408754,19.881438805605914]|[0.005928059719704377,0.9940719402802957]|1.0       |\n",
      "|0.0            |0.0            |0.0           |0.0                    |0.0     |0.0           |0.0           |0.0           |0.0               |0.0              |0.0                   |0.0          |0.0        |0.0        |1.0          |0.0         |1.0         |0.0                  |0.0                  |0.0                  |0.0                   |0.0                  |0.0                  |80.0            |1.0          |1.0  |(25,[14,16,23,24],[1.0,1.0,80.0,1.0])        |[0.11856119439408754,19.881438805605914]|[0.005928059719704377,0.9940719402802957]|1.0       |\n",
      "|0.0            |0.0            |0.0           |0.0                    |0.0     |0.0           |0.0           |0.0           |0.0               |0.0              |0.0                   |0.0          |0.0        |0.0        |1.0          |0.0         |1.0         |0.0                  |0.0                  |0.0                  |0.0                   |0.0                  |0.0                  |80.0            |1.0          |1.0  |(25,[14,16,23,24],[1.0,1.0,80.0,1.0])        |[0.11856119439408754,19.881438805605914]|[0.005928059719704377,0.9940719402802957]|1.0       |\n",
      "|0.0            |0.0            |0.0           |0.0                    |0.0     |0.0           |0.0           |0.0           |0.0               |0.0              |0.0                   |0.0          |0.0        |0.0        |1.0          |0.0         |1.0         |0.0                  |0.0                  |0.0                  |0.0                   |0.0                  |0.0                  |80.0            |1.0          |1.0  |(25,[14,16,23,24],[1.0,1.0,80.0,1.0])        |[0.11856119439408754,19.881438805605914]|[0.005928059719704377,0.9940719402802957]|1.0       |\n",
      "|0.0            |0.0            |0.0           |0.0                    |0.0     |0.0           |0.0           |0.0           |0.0               |0.0              |0.0                   |0.0          |0.0        |0.0        |1.0          |0.0         |1.0         |0.0                  |0.0                  |0.0                  |0.0                   |0.0                  |0.0                  |80.0            |1.0          |1.0  |(25,[14,16,23,24],[1.0,1.0,80.0,1.0])        |[0.11856119439408754,19.881438805605914]|[0.005928059719704377,0.9940719402802957]|1.0       |\n",
      "|0.0            |0.0            |0.0           |0.0                    |0.0     |0.0           |0.0           |0.0           |0.0               |0.0              |0.0                   |0.0          |0.0        |0.0        |1.0          |0.0         |1.0         |0.0                  |0.0                  |0.0                  |0.0                   |0.0                  |0.0                  |80.0            |1.0          |1.0  |(25,[14,16,23,24],[1.0,1.0,80.0,1.0])        |[0.11856119439408754,19.881438805605914]|[0.005928059719704377,0.9940719402802957]|1.0       |\n",
      "|0.0            |0.0            |0.0           |0.0                    |0.0     |0.0           |0.0           |0.0           |0.0               |0.0              |0.0                   |0.0          |0.0        |0.0        |1.0          |0.0         |1.0         |0.0                  |0.0                  |0.0                  |0.0                   |0.0                  |0.0                  |80.0            |1.0          |1.0  |(25,[14,16,23,24],[1.0,1.0,80.0,1.0])        |[0.11856119439408754,19.881438805605914]|[0.005928059719704377,0.9940719402802957]|1.0       |\n",
      "|0.0            |0.0            |0.0           |0.0                    |0.0     |0.0           |0.0           |0.0           |0.0               |0.0              |0.0                   |0.0          |0.0        |0.0        |1.0          |0.0         |1.0         |0.0                  |0.0                  |0.0                  |0.0                   |0.0                  |0.0                  |80.0            |1.0          |1.0  |(25,[14,16,23,24],[1.0,1.0,80.0,1.0])        |[0.11856119439408754,19.881438805605914]|[0.005928059719704377,0.9940719402802957]|1.0       |\n",
      "|0.0            |0.0            |0.0           |0.0                    |0.0     |0.0           |0.0           |0.0           |0.0               |0.0              |0.0                   |0.0          |0.0        |0.0        |1.0          |0.0         |1.0         |0.0                  |0.0                  |0.0                  |0.0                   |0.0                  |0.0                  |80.0            |1.0          |1.0  |(25,[14,16,23,24],[1.0,1.0,80.0,1.0])        |[0.11856119439408754,19.881438805605914]|[0.005928059719704377,0.9940719402802957]|1.0       |\n",
      "|0.0            |0.0            |0.0           |0.0                    |0.0     |0.0           |0.0           |0.0           |0.0               |0.0              |0.0                   |0.0          |0.0        |0.0        |1.0          |0.0         |1.0         |0.0                  |0.0                  |0.0                  |0.0                   |0.0                  |0.0                  |80.0            |1.0          |1.0  |(25,[14,16,23,24],[1.0,1.0,80.0,1.0])        |[0.11856119439408754,19.881438805605914]|[0.005928059719704377,0.9940719402802957]|1.0       |\n",
      "|0.0            |0.0            |0.0           |0.0                    |0.0     |0.0           |0.0           |0.0           |0.0               |0.0              |0.0                   |0.0          |0.0        |0.0        |1.0          |0.0         |1.0         |0.0                  |0.0                  |0.0                  |0.0                   |0.0                  |0.0                  |80.0            |1.0          |1.0  |(25,[14,16,23,24],[1.0,1.0,80.0,1.0])        |[0.11856119439408754,19.881438805605914]|[0.005928059719704377,0.9940719402802957]|1.0       |\n",
      "|0.0            |0.0            |0.0           |0.0                    |0.0     |0.0           |0.0           |0.0           |0.0               |0.0              |0.0                   |0.0          |0.0        |0.0        |2.0          |0.0         |2.0         |0.0                  |0.0                  |0.0                  |0.0                   |0.0                  |0.0                  |80.0            |2.0          |1.0  |(25,[14,16,23,24],[2.0,2.0,80.0,2.0])        |[0.11856119439408754,19.881438805605914]|[0.005928059719704377,0.9940719402802957]|1.0       |\n",
      "|0.0            |0.0            |0.0           |0.0                    |0.0     |0.0           |0.0           |0.0           |0.0               |0.0              |0.0                   |0.0          |0.0        |0.0        |2.0          |0.0         |2.0         |0.0                  |0.0                  |0.0                  |0.0                   |0.0                  |0.0                  |80.0            |2.0          |1.0  |(25,[14,16,23,24],[2.0,2.0,80.0,2.0])        |[0.11856119439408754,19.881438805605914]|[0.005928059719704377,0.9940719402802957]|1.0       |\n",
      "+---------------+---------------+--------------+-----------------------+--------+--------------+--------------+--------------+------------------+-----------------+----------------------+-------------+-----------+-----------+-------------+------------+------------+---------------------+---------------------+---------------------+----------------------+---------------------+---------------------+----------------+-------------+-----+---------------------------------------------+----------------------------------------+-----------------------------------------+----------+\n",
      "only showing top 20 rows\n",
      "\n"
     ]
    },
    {
     "data": {
      "application/javascript": [
       "\n",
       "            setTimeout(function() {\n",
       "                var nbb_cell_id = 23;\n",
       "                var nbb_unformatted_code = \"y_pred.show(truncate=False)\";\n",
       "                var nbb_formatted_code = \"y_pred.show(truncate=False)\";\n",
       "                var nbb_cells = Jupyter.notebook.get_cells();\n",
       "                for (var i = 0; i < nbb_cells.length; ++i) {\n",
       "                    if (nbb_cells[i].input_prompt_number == nbb_cell_id) {\n",
       "                        if (nbb_cells[i].get_text() == nbb_unformatted_code) {\n",
       "                             nbb_cells[i].set_text(nbb_formatted_code);\n",
       "                        }\n",
       "                        break;\n",
       "                    }\n",
       "                }\n",
       "            }, 500);\n",
       "            "
      ],
      "text/plain": [
       "<IPython.core.display.Javascript object>"
      ]
     },
     "metadata": {},
     "output_type": "display_data"
    }
   ],
   "source": [
    "y_pred.show(truncate=False)"
   ]
  },
  {
   "cell_type": "code",
   "execution_count": 24,
   "id": "81e49e63",
   "metadata": {},
   "outputs": [
    {
     "name": "stdout",
     "output_type": "stream",
     "text": [
      "['Flow_Bytes_Sec0', 'Flow_Bytes_Sec1', 'SYN_Flag_Count', 'Init_Win_bytes_backward', 'Idle_Max', 'PSH_Flag_Count', 'ACK_Flag_Count', 'URG_Flag_Count', 'Packet_Length_Mean', 'Packet_Length_Std', 'Packet_Length_Variance', 'Bwd_IAT_Total', 'Fwd_IAT_Std', 'Fwd_IAT_Max', 'Flow_IAT_Mean', 'Flow_IAT_Std', 'Flow_IAT_Max', 'Fwd_Packet_Length_Std', 'Bwd_Packet_Length_Max', 'Bwd_Packet_Length_Min', 'Bwd_Packet_Length_Mean', 'Bwd_Packet_Length_Std', 'Fwd_Packet_Length_Min', 'Destination_Port', 'Flow_Duration', 'Label', 'features', 'rawPrediction', 'probability', 'prediction']\n"
     ]
    },
    {
     "data": {
      "application/javascript": [
       "\n",
       "            setTimeout(function() {\n",
       "                var nbb_cell_id = 24;\n",
       "                var nbb_unformatted_code = \"print(y_pred.columns)\";\n",
       "                var nbb_formatted_code = \"print(y_pred.columns)\";\n",
       "                var nbb_cells = Jupyter.notebook.get_cells();\n",
       "                for (var i = 0; i < nbb_cells.length; ++i) {\n",
       "                    if (nbb_cells[i].input_prompt_number == nbb_cell_id) {\n",
       "                        if (nbb_cells[i].get_text() == nbb_unformatted_code) {\n",
       "                             nbb_cells[i].set_text(nbb_formatted_code);\n",
       "                        }\n",
       "                        break;\n",
       "                    }\n",
       "                }\n",
       "            }, 500);\n",
       "            "
      ],
      "text/plain": [
       "<IPython.core.display.Javascript object>"
      ]
     },
     "metadata": {},
     "output_type": "display_data"
    }
   ],
   "source": [
    "print(y_pred.columns)"
   ]
  },
  {
   "cell_type": "code",
   "execution_count": 25,
   "id": "191a464e",
   "metadata": {},
   "outputs": [
    {
     "name": "stdout",
     "output_type": "stream",
     "text": [
      "+--------------------+--------------------+----------+\n",
      "|       rawPrediction|         probability|prediction|\n",
      "+--------------------+--------------------+----------+\n",
      "|[15.0743428030911...|[0.75371714015455...|       0.0|\n",
      "|[15.0743428030911...|[0.75371714015455...|       0.0|\n",
      "|[15.0743428030911...|[0.75371714015455...|       0.0|\n",
      "|[16.6058475401928...|[0.83029237700964...|       0.0|\n",
      "|[16.6058475401928...|[0.83029237700964...|       0.0|\n",
      "|[0.11856119439408...|[0.00592805971970...|       1.0|\n",
      "|[0.11856119439408...|[0.00592805971970...|       1.0|\n",
      "|[0.11856119439408...|[0.00592805971970...|       1.0|\n",
      "|[0.11856119439408...|[0.00592805971970...|       1.0|\n",
      "|[0.11856119439408...|[0.00592805971970...|       1.0|\n",
      "|[0.11856119439408...|[0.00592805971970...|       1.0|\n",
      "|[0.11856119439408...|[0.00592805971970...|       1.0|\n",
      "|[0.11856119439408...|[0.00592805971970...|       1.0|\n",
      "|[0.11856119439408...|[0.00592805971970...|       1.0|\n",
      "|[0.11856119439408...|[0.00592805971970...|       1.0|\n",
      "|[0.11856119439408...|[0.00592805971970...|       1.0|\n",
      "|[0.11856119439408...|[0.00592805971970...|       1.0|\n",
      "|[0.11856119439408...|[0.00592805971970...|       1.0|\n",
      "|[0.11856119439408...|[0.00592805971970...|       1.0|\n",
      "|[0.11856119439408...|[0.00592805971970...|       1.0|\n",
      "+--------------------+--------------------+----------+\n",
      "only showing top 20 rows\n",
      "\n"
     ]
    },
    {
     "data": {
      "application/javascript": [
       "\n",
       "            setTimeout(function() {\n",
       "                var nbb_cell_id = 25;\n",
       "                var nbb_unformatted_code = \"y_pred.select(\\\"rawPrediction\\\", \\\"probability\\\", \\\"prediction\\\").show()\";\n",
       "                var nbb_formatted_code = \"y_pred.select(\\\"rawPrediction\\\", \\\"probability\\\", \\\"prediction\\\").show()\";\n",
       "                var nbb_cells = Jupyter.notebook.get_cells();\n",
       "                for (var i = 0; i < nbb_cells.length; ++i) {\n",
       "                    if (nbb_cells[i].input_prompt_number == nbb_cell_id) {\n",
       "                        if (nbb_cells[i].get_text() == nbb_unformatted_code) {\n",
       "                             nbb_cells[i].set_text(nbb_formatted_code);\n",
       "                        }\n",
       "                        break;\n",
       "                    }\n",
       "                }\n",
       "            }, 500);\n",
       "            "
      ],
      "text/plain": [
       "<IPython.core.display.Javascript object>"
      ]
     },
     "metadata": {},
     "output_type": "display_data"
    }
   ],
   "source": [
    "y_pred.select(\"rawPrediction\", \"probability\", \"prediction\").show()"
   ]
  },
  {
   "cell_type": "code",
   "execution_count": 26,
   "id": "25d05ba4",
   "metadata": {},
   "outputs": [
    {
     "data": {
      "application/javascript": [
       "\n",
       "            setTimeout(function() {\n",
       "                var nbb_cell_id = 26;\n",
       "                var nbb_unformatted_code = \"from pyspark.ml.evaluation import MulticlassClassificationEvaluator\";\n",
       "                var nbb_formatted_code = \"from pyspark.ml.evaluation import MulticlassClassificationEvaluator\";\n",
       "                var nbb_cells = Jupyter.notebook.get_cells();\n",
       "                for (var i = 0; i < nbb_cells.length; ++i) {\n",
       "                    if (nbb_cells[i].input_prompt_number == nbb_cell_id) {\n",
       "                        if (nbb_cells[i].get_text() == nbb_unformatted_code) {\n",
       "                             nbb_cells[i].set_text(nbb_formatted_code);\n",
       "                        }\n",
       "                        break;\n",
       "                    }\n",
       "                }\n",
       "            }, 500);\n",
       "            "
      ],
      "text/plain": [
       "<IPython.core.display.Javascript object>"
      ]
     },
     "metadata": {},
     "output_type": "display_data"
    }
   ],
   "source": [
    "from pyspark.ml.evaluation import MulticlassClassificationEvaluator"
   ]
  },
  {
   "cell_type": "code",
   "execution_count": 27,
   "id": "a68d0a4e",
   "metadata": {},
   "outputs": [
    {
     "data": {
      "application/javascript": [
       "\n",
       "            setTimeout(function() {\n",
       "                var nbb_cell_id = 27;\n",
       "                var nbb_unformatted_code = \"multi_evaluator = MulticlassClassificationEvaluator(\\n    labelCol=\\\"Label\\\", metricName=\\\"accuracy\\\"\\n)\";\n",
       "                var nbb_formatted_code = \"multi_evaluator = MulticlassClassificationEvaluator(\\n    labelCol=\\\"Label\\\", metricName=\\\"accuracy\\\"\\n)\";\n",
       "                var nbb_cells = Jupyter.notebook.get_cells();\n",
       "                for (var i = 0; i < nbb_cells.length; ++i) {\n",
       "                    if (nbb_cells[i].input_prompt_number == nbb_cell_id) {\n",
       "                        if (nbb_cells[i].get_text() == nbb_unformatted_code) {\n",
       "                             nbb_cells[i].set_text(nbb_formatted_code);\n",
       "                        }\n",
       "                        break;\n",
       "                    }\n",
       "                }\n",
       "            }, 500);\n",
       "            "
      ],
      "text/plain": [
       "<IPython.core.display.Javascript object>"
      ]
     },
     "metadata": {},
     "output_type": "display_data"
    }
   ],
   "source": [
    "multi_evaluator = MulticlassClassificationEvaluator(\n",
    "    labelCol=\"Label\", metricName=\"accuracy\"\n",
    ")"
   ]
  },
  {
   "cell_type": "code",
   "execution_count": 28,
   "id": "32b0feb0",
   "metadata": {},
   "outputs": [
    {
     "name": "stdout",
     "output_type": "stream",
     "text": [
      "CPU times: total: 0 ns\n",
      "Wall time: 4.73 s\n"
     ]
    },
    {
     "data": {
      "text/plain": [
       "0.9995024589220217"
      ]
     },
     "execution_count": 28,
     "metadata": {},
     "output_type": "execute_result"
    },
    {
     "data": {
      "application/javascript": [
       "\n",
       "            setTimeout(function() {\n",
       "                var nbb_cell_id = 28;\n",
       "                var nbb_unformatted_code = \"%%time\\nmulti_evaluator.evaluate(y_pred)\";\n",
       "                var nbb_formatted_code = \"%%time\\nmulti_evaluator.evaluate(y_pred)\";\n",
       "                var nbb_cells = Jupyter.notebook.get_cells();\n",
       "                for (var i = 0; i < nbb_cells.length; ++i) {\n",
       "                    if (nbb_cells[i].input_prompt_number == nbb_cell_id) {\n",
       "                        if (nbb_cells[i].get_text() == nbb_unformatted_code) {\n",
       "                             nbb_cells[i].set_text(nbb_formatted_code);\n",
       "                        }\n",
       "                        break;\n",
       "                    }\n",
       "                }\n",
       "            }, 500);\n",
       "            "
      ],
      "text/plain": [
       "<IPython.core.display.Javascript object>"
      ]
     },
     "metadata": {},
     "output_type": "display_data"
    }
   ],
   "source": [
    "%%time\n",
    "multi_evaluator.evaluate(y_pred)"
   ]
  },
  {
   "cell_type": "code",
   "execution_count": 29,
   "id": "0cacdf0d",
   "metadata": {},
   "outputs": [
    {
     "data": {
      "application/javascript": [
       "\n",
       "            setTimeout(function() {\n",
       "                var nbb_cell_id = 29;\n",
       "                var nbb_unformatted_code = \"from pyspark.mllib.evaluation import MulticlassMetrics\";\n",
       "                var nbb_formatted_code = \"from pyspark.mllib.evaluation import MulticlassMetrics\";\n",
       "                var nbb_cells = Jupyter.notebook.get_cells();\n",
       "                for (var i = 0; i < nbb_cells.length; ++i) {\n",
       "                    if (nbb_cells[i].input_prompt_number == nbb_cell_id) {\n",
       "                        if (nbb_cells[i].get_text() == nbb_unformatted_code) {\n",
       "                             nbb_cells[i].set_text(nbb_formatted_code);\n",
       "                        }\n",
       "                        break;\n",
       "                    }\n",
       "                }\n",
       "            }, 500);\n",
       "            "
      ],
      "text/plain": [
       "<IPython.core.display.Javascript object>"
      ]
     },
     "metadata": {},
     "output_type": "display_data"
    }
   ],
   "source": [
    "from pyspark.mllib.evaluation import MulticlassMetrics"
   ]
  },
  {
   "cell_type": "code",
   "execution_count": 30,
   "id": "a6b7b071",
   "metadata": {},
   "outputs": [
    {
     "name": "stderr",
     "output_type": "stream",
     "text": [
      "C:\\bigdata\\spark3\\python\\pyspark\\sql\\context.py:157: FutureWarning: Deprecated in 3.0.0. Use SparkSession.builder.getOrCreate() instead.\n",
      "  warnings.warn(\n"
     ]
    },
    {
     "data": {
      "application/javascript": [
       "\n",
       "            setTimeout(function() {\n",
       "                var nbb_cell_id = 30;\n",
       "                var nbb_unformatted_code = \"rf_metric = MulticlassMetrics(y_pred[\\\"Label\\\", \\\"prediction\\\"].rdd)\";\n",
       "                var nbb_formatted_code = \"rf_metric = MulticlassMetrics(y_pred[\\\"Label\\\", \\\"prediction\\\"].rdd)\";\n",
       "                var nbb_cells = Jupyter.notebook.get_cells();\n",
       "                for (var i = 0; i < nbb_cells.length; ++i) {\n",
       "                    if (nbb_cells[i].input_prompt_number == nbb_cell_id) {\n",
       "                        if (nbb_cells[i].get_text() == nbb_unformatted_code) {\n",
       "                             nbb_cells[i].set_text(nbb_formatted_code);\n",
       "                        }\n",
       "                        break;\n",
       "                    }\n",
       "                }\n",
       "            }, 500);\n",
       "            "
      ],
      "text/plain": [
       "<IPython.core.display.Javascript object>"
      ]
     },
     "metadata": {},
     "output_type": "display_data"
    }
   ],
   "source": [
    "rf_metric = MulticlassMetrics(y_pred[\"Label\", \"prediction\"].rdd)"
   ]
  },
  {
   "cell_type": "code",
   "execution_count": 31,
   "id": "82fee7b2",
   "metadata": {},
   "outputs": [
    {
     "data": {
      "text/plain": [
       "['__class__',\n",
       " '__del__',\n",
       " '__delattr__',\n",
       " '__dict__',\n",
       " '__dir__',\n",
       " '__doc__',\n",
       " '__eq__',\n",
       " '__format__',\n",
       " '__ge__',\n",
       " '__getattribute__',\n",
       " '__gt__',\n",
       " '__hash__',\n",
       " '__init__',\n",
       " '__init_subclass__',\n",
       " '__le__',\n",
       " '__lt__',\n",
       " '__module__',\n",
       " '__ne__',\n",
       " '__new__',\n",
       " '__reduce__',\n",
       " '__reduce_ex__',\n",
       " '__repr__',\n",
       " '__setattr__',\n",
       " '__sizeof__',\n",
       " '__str__',\n",
       " '__subclasshook__',\n",
       " '__weakref__',\n",
       " '_java_model',\n",
       " '_sc',\n",
       " 'accuracy',\n",
       " 'call',\n",
       " 'confusionMatrix',\n",
       " 'fMeasure',\n",
       " 'falsePositiveRate',\n",
       " 'logLoss',\n",
       " 'precision',\n",
       " 'recall',\n",
       " 'truePositiveRate',\n",
       " 'weightedFMeasure',\n",
       " 'weightedFalsePositiveRate',\n",
       " 'weightedPrecision',\n",
       " 'weightedRecall',\n",
       " 'weightedTruePositiveRate']"
      ]
     },
     "execution_count": 31,
     "metadata": {},
     "output_type": "execute_result"
    },
    {
     "data": {
      "application/javascript": [
       "\n",
       "            setTimeout(function() {\n",
       "                var nbb_cell_id = 31;\n",
       "                var nbb_unformatted_code = \"dir(rf_metric)\";\n",
       "                var nbb_formatted_code = \"dir(rf_metric)\";\n",
       "                var nbb_cells = Jupyter.notebook.get_cells();\n",
       "                for (var i = 0; i < nbb_cells.length; ++i) {\n",
       "                    if (nbb_cells[i].input_prompt_number == nbb_cell_id) {\n",
       "                        if (nbb_cells[i].get_text() == nbb_unformatted_code) {\n",
       "                             nbb_cells[i].set_text(nbb_formatted_code);\n",
       "                        }\n",
       "                        break;\n",
       "                    }\n",
       "                }\n",
       "            }, 500);\n",
       "            "
      ],
      "text/plain": [
       "<IPython.core.display.Javascript object>"
      ]
     },
     "metadata": {},
     "output_type": "display_data"
    }
   ],
   "source": [
    "dir(rf_metric)"
   ]
  },
  {
   "cell_type": "code",
   "execution_count": 32,
   "id": "50686862",
   "metadata": {},
   "outputs": [
    {
     "name": "stdout",
     "output_type": "stream",
     "text": [
      "precision 0.9994237185319987\n"
     ]
    },
    {
     "data": {
      "application/javascript": [
       "\n",
       "            setTimeout(function() {\n",
       "                var nbb_cell_id = 32;\n",
       "                var nbb_unformatted_code = \"print(\\\"precision\\\", rf_metric.precision(1.0))\";\n",
       "                var nbb_formatted_code = \"print(\\\"precision\\\", rf_metric.precision(1.0))\";\n",
       "                var nbb_cells = Jupyter.notebook.get_cells();\n",
       "                for (var i = 0; i < nbb_cells.length; ++i) {\n",
       "                    if (nbb_cells[i].input_prompt_number == nbb_cell_id) {\n",
       "                        if (nbb_cells[i].get_text() == nbb_unformatted_code) {\n",
       "                             nbb_cells[i].set_text(nbb_formatted_code);\n",
       "                        }\n",
       "                        break;\n",
       "                    }\n",
       "                }\n",
       "            }, 500);\n",
       "            "
      ],
      "text/plain": [
       "<IPython.core.display.Javascript object>"
      ]
     },
     "metadata": {},
     "output_type": "display_data"
    }
   ],
   "source": [
    "print(\"precision\", rf_metric.precision(1.0))"
   ]
  },
  {
   "cell_type": "code",
   "execution_count": 33,
   "id": "cad45a5e",
   "metadata": {},
   "outputs": [
    {
     "name": "stdout",
     "output_type": "stream",
     "text": [
      "accuracy 0.9995024589220217\n"
     ]
    },
    {
     "data": {
      "application/javascript": [
       "\n",
       "            setTimeout(function() {\n",
       "                var nbb_cell_id = 33;\n",
       "                var nbb_unformatted_code = \"print(\\\"accuracy\\\", rf_metric.accuracy)\";\n",
       "                var nbb_formatted_code = \"print(\\\"accuracy\\\", rf_metric.accuracy)\";\n",
       "                var nbb_cells = Jupyter.notebook.get_cells();\n",
       "                for (var i = 0; i < nbb_cells.length; ++i) {\n",
       "                    if (nbb_cells[i].input_prompt_number == nbb_cell_id) {\n",
       "                        if (nbb_cells[i].get_text() == nbb_unformatted_code) {\n",
       "                             nbb_cells[i].set_text(nbb_formatted_code);\n",
       "                        }\n",
       "                        break;\n",
       "                    }\n",
       "                }\n",
       "            }, 500);\n",
       "            "
      ],
      "text/plain": [
       "<IPython.core.display.Javascript object>"
      ]
     },
     "metadata": {},
     "output_type": "display_data"
    }
   ],
   "source": [
    "print(\"accuracy\", rf_metric.accuracy)"
   ]
  },
  {
   "cell_type": "code",
   "execution_count": 34,
   "id": "8190042a",
   "metadata": {},
   "outputs": [
    {
     "data": {
      "text/plain": [
       "0.0005263093832384718"
      ]
     },
     "execution_count": 34,
     "metadata": {},
     "output_type": "execute_result"
    },
    {
     "data": {
      "application/javascript": [
       "\n",
       "            setTimeout(function() {\n",
       "                var nbb_cell_id = 34;\n",
       "                var nbb_unformatted_code = \"rf_metric.weightedFalsePositiveRate\";\n",
       "                var nbb_formatted_code = \"rf_metric.weightedFalsePositiveRate\";\n",
       "                var nbb_cells = Jupyter.notebook.get_cells();\n",
       "                for (var i = 0; i < nbb_cells.length; ++i) {\n",
       "                    if (nbb_cells[i].input_prompt_number == nbb_cell_id) {\n",
       "                        if (nbb_cells[i].get_text() == nbb_unformatted_code) {\n",
       "                             nbb_cells[i].set_text(nbb_formatted_code);\n",
       "                        }\n",
       "                        break;\n",
       "                    }\n",
       "                }\n",
       "            }, 500);\n",
       "            "
      ],
      "text/plain": [
       "<IPython.core.display.Javascript object>"
      ]
     },
     "metadata": {},
     "output_type": "display_data"
    }
   ],
   "source": [
    "rf_metric.weightedFalsePositiveRate"
   ]
  },
  {
   "cell_type": "code",
   "execution_count": null,
   "id": "0dad68f9",
   "metadata": {},
   "outputs": [],
   "source": []
  }
 ],
 "metadata": {
  "kernelspec": {
   "display_name": "Python 3 (ipykernel)",
   "language": "python",
   "name": "python3"
  },
  "language_info": {
   "codemirror_mode": {
    "name": "ipython",
    "version": 3
   },
   "file_extension": ".py",
   "mimetype": "text/x-python",
   "name": "python",
   "nbconvert_exporter": "python",
   "pygments_lexer": "ipython3",
   "version": "3.11.7"
  }
 },
 "nbformat": 4,
 "nbformat_minor": 5
}
