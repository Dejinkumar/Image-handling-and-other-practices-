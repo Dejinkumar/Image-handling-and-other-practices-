{
 "cells": [
  {
   "cell_type": "code",
   "execution_count": 3,
   "id": "530fe3b1",
   "metadata": {},
   "outputs": [
    {
     "data": {
      "text/plain": [
       "-1"
      ]
     },
     "execution_count": 3,
     "metadata": {},
     "output_type": "execute_result"
    }
   ],
   "source": [
    "#Managing the imports\n",
    "import cv2\n",
    "import numpy as np\n",
    "\n",
    "#reading a image from computer and taking dimensions\n",
    "img = cv2.imread('download.jpg')\n",
    "rows, cols = img.shape[:2]\n",
    "\n",
    "#Kernel Blurring using filter2D()\n",
    "kernel_25 = np.ones((25,25), np.float32) / 625.0\n",
    "output_kernel = cv2.filter2D(img, -1, kernel_25)\n",
    "\n",
    "#Boxfilter and blur function blurring\n",
    "output_blur = cv2.blur(img, (25,25))\n",
    "output_box = cv2.boxFilter(img, -1, (5,5), normalize=False)\n",
    "\n",
    "#gaussian Blur \n",
    "output_gaus = cv2.GaussianBlur(img, (5,5), 0)\n",
    "\n",
    "#median Bur (reduction of noise)\n",
    "output_med = cv2.medianBlur(img, 5)\n",
    "\n",
    "#Bilateral filtering (Reduction of noise + Preserving of edges)\n",
    "\n",
    "output_bil = cv2.bilateralFilter(img, 5, 6, 6)\n",
    "\n",
    "cv2.imshow('kernel blur', output_kernel)\n",
    "cv2.imshow('Blur() output', output_blur)\n",
    "cv2.imshow('Box filter', output_box)\n",
    "cv2.imshow('Gaussian', output_gaus)\n",
    "cv2.imshow('Bilateral', output_bil)\n",
    "cv2.imshow('Median Blur', output_med)\n",
    "cv2.imshow('Original', img)\n",
    "cv2.waitKey(0)"
   ]
  },
  {
   "cell_type": "code",
   "execution_count": null,
   "id": "4fbb10b2",
   "metadata": {},
   "outputs": [],
   "source": []
  }
 ],
 "metadata": {
  "kernelspec": {
   "display_name": "Python 3 (ipykernel)",
   "language": "python",
   "name": "python3"
  },
  "language_info": {
   "codemirror_mode": {
    "name": "ipython",
    "version": 3
   },
   "file_extension": ".py",
   "mimetype": "text/x-python",
   "name": "python",
   "nbconvert_exporter": "python",
   "pygments_lexer": "ipython3",
   "version": "3.9.12"
  }
 },
 "nbformat": 4,
 "nbformat_minor": 5
}
